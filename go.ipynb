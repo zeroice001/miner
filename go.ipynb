{
  "cells": [
    {
      "cell_type": "markdown",
      "metadata": {
        "id": "view-in-github",
        "colab_type": "text"
      },
      "source": [
        "<a href=\"https://colab.research.google.com/github/zeroice001/miner/blob/main/go.ipynb\" target=\"_parent\"><img src=\"https://colab.research.google.com/assets/colab-badge.svg\" alt=\"Open In Colab\"/></a>"
      ]
    },
    {
      "cell_type": "code",
      "execution_count": 49,
      "metadata": {
        "id": "_EZXJcXptlCa"
      },
      "outputs": [],
      "source": [
        "import numpy as np\n",
        "import pandas as pd\n",
        "from sklearn.model_selection import train_test_split\n",
        "from sklearn.preprocessing import MinMaxScaler\n",
        "from tensorflow.keras.models import Sequential\n",
        "from tensorflow.keras.layers import LSTM, Dense\n"
      ]
    },
    {
      "cell_type": "markdown",
      "metadata": {
        "id": "aYAALpRO28Ut"
      },
      "source": [
        "Import the necessary libraries:"
      ]
    },
    {
      "cell_type": "code",
      "execution_count": 52,
      "metadata": {
        "colab": {
          "base_uri": "https://localhost:8080/",
          "height": 423
        },
        "id": "qcDFfOK6JrFF",
        "outputId": "217c1b53-802f-4762-9c24-7876249622f2"
      },
      "outputs": [
        {
          "output_type": "stream",
          "name": "stdout",
          "text": [
            "10178420\n",
            "454833\n"
          ]
        },
        {
          "output_type": "error",
          "ename": "ValueError",
          "evalue": "ignored",
          "traceback": [
            "\u001b[0;31m---------------------------------------------------------------------------\u001b[0m",
            "\u001b[0;31mValueError\u001b[0m                                Traceback (most recent call last)",
            "\u001b[0;32m<ipython-input-52-488c89f53dbc>\u001b[0m in \u001b[0;36m<cell line: 16>\u001b[0;34m()\u001b[0m\n\u001b[1;32m     14\u001b[0m \u001b[0;34m\u001b[0m\u001b[0m\n\u001b[1;32m     15\u001b[0m \u001b[0;31m# Split the data into training and testing sets\u001b[0m\u001b[0;34m\u001b[0m\u001b[0;34m\u001b[0m\u001b[0m\n\u001b[0;32m---> 16\u001b[0;31m \u001b[0mX_train\u001b[0m\u001b[0;34m,\u001b[0m \u001b[0mX_test\u001b[0m\u001b[0;34m,\u001b[0m \u001b[0my_train\u001b[0m\u001b[0;34m,\u001b[0m \u001b[0my_test\u001b[0m \u001b[0;34m=\u001b[0m \u001b[0mtrain_test_split\u001b[0m\u001b[0;34m(\u001b[0m \u001b[0mX\u001b[0m\u001b[0;34m,\u001b[0m \u001b[0my\u001b[0m\u001b[0;34m,\u001b[0m \u001b[0mtest_size\u001b[0m\u001b[0;34m=\u001b[0m\u001b[0;36m0.1\u001b[0m\u001b[0;34m,\u001b[0m \u001b[0mrandom_state\u001b[0m\u001b[0;34m=\u001b[0m\u001b[0;36m42\u001b[0m\u001b[0;34m)\u001b[0m\u001b[0;34m\u001b[0m\u001b[0;34m\u001b[0m\u001b[0m\n\u001b[0m\u001b[1;32m     17\u001b[0m \u001b[0;34m\u001b[0m\u001b[0m\n\u001b[1;32m     18\u001b[0m \u001b[0;31m# Scale the data using MinMaxScaler\u001b[0m\u001b[0;34m\u001b[0m\u001b[0;34m\u001b[0m\u001b[0m\n",
            "\u001b[0;32m/usr/local/lib/python3.10/dist-packages/sklearn/model_selection/_split.py\u001b[0m in \u001b[0;36mtrain_test_split\u001b[0;34m(test_size, train_size, random_state, shuffle, stratify, *arrays)\u001b[0m\n\u001b[1;32m   2557\u001b[0m         \u001b[0;32mraise\u001b[0m \u001b[0mValueError\u001b[0m\u001b[0;34m(\u001b[0m\u001b[0;34m\"At least one array required as input\"\u001b[0m\u001b[0;34m)\u001b[0m\u001b[0;34m\u001b[0m\u001b[0;34m\u001b[0m\u001b[0m\n\u001b[1;32m   2558\u001b[0m \u001b[0;34m\u001b[0m\u001b[0m\n\u001b[0;32m-> 2559\u001b[0;31m     \u001b[0marrays\u001b[0m \u001b[0;34m=\u001b[0m \u001b[0mindexable\u001b[0m\u001b[0;34m(\u001b[0m\u001b[0;34m*\u001b[0m\u001b[0marrays\u001b[0m\u001b[0;34m)\u001b[0m\u001b[0;34m\u001b[0m\u001b[0;34m\u001b[0m\u001b[0m\n\u001b[0m\u001b[1;32m   2560\u001b[0m \u001b[0;34m\u001b[0m\u001b[0m\n\u001b[1;32m   2561\u001b[0m     \u001b[0mn_samples\u001b[0m \u001b[0;34m=\u001b[0m \u001b[0m_num_samples\u001b[0m\u001b[0;34m(\u001b[0m\u001b[0marrays\u001b[0m\u001b[0;34m[\u001b[0m\u001b[0;36m0\u001b[0m\u001b[0;34m]\u001b[0m\u001b[0;34m)\u001b[0m\u001b[0;34m\u001b[0m\u001b[0;34m\u001b[0m\u001b[0m\n",
            "\u001b[0;32m/usr/local/lib/python3.10/dist-packages/sklearn/utils/validation.py\u001b[0m in \u001b[0;36mindexable\u001b[0;34m(*iterables)\u001b[0m\n\u001b[1;32m    441\u001b[0m \u001b[0;34m\u001b[0m\u001b[0m\n\u001b[1;32m    442\u001b[0m     \u001b[0mresult\u001b[0m \u001b[0;34m=\u001b[0m \u001b[0;34m[\u001b[0m\u001b[0m_make_indexable\u001b[0m\u001b[0;34m(\u001b[0m\u001b[0mX\u001b[0m\u001b[0;34m)\u001b[0m \u001b[0;32mfor\u001b[0m \u001b[0mX\u001b[0m \u001b[0;32min\u001b[0m \u001b[0miterables\u001b[0m\u001b[0;34m]\u001b[0m\u001b[0;34m\u001b[0m\u001b[0;34m\u001b[0m\u001b[0m\n\u001b[0;32m--> 443\u001b[0;31m     \u001b[0mcheck_consistent_length\u001b[0m\u001b[0;34m(\u001b[0m\u001b[0;34m*\u001b[0m\u001b[0mresult\u001b[0m\u001b[0;34m)\u001b[0m\u001b[0;34m\u001b[0m\u001b[0;34m\u001b[0m\u001b[0m\n\u001b[0m\u001b[1;32m    444\u001b[0m     \u001b[0;32mreturn\u001b[0m \u001b[0mresult\u001b[0m\u001b[0;34m\u001b[0m\u001b[0;34m\u001b[0m\u001b[0m\n\u001b[1;32m    445\u001b[0m \u001b[0;34m\u001b[0m\u001b[0m\n",
            "\u001b[0;32m/usr/local/lib/python3.10/dist-packages/sklearn/utils/validation.py\u001b[0m in \u001b[0;36mcheck_consistent_length\u001b[0;34m(*arrays)\u001b[0m\n\u001b[1;32m    395\u001b[0m     \u001b[0muniques\u001b[0m \u001b[0;34m=\u001b[0m \u001b[0mnp\u001b[0m\u001b[0;34m.\u001b[0m\u001b[0munique\u001b[0m\u001b[0;34m(\u001b[0m\u001b[0mlengths\u001b[0m\u001b[0;34m)\u001b[0m\u001b[0;34m\u001b[0m\u001b[0;34m\u001b[0m\u001b[0m\n\u001b[1;32m    396\u001b[0m     \u001b[0;32mif\u001b[0m \u001b[0mlen\u001b[0m\u001b[0;34m(\u001b[0m\u001b[0muniques\u001b[0m\u001b[0;34m)\u001b[0m \u001b[0;34m>\u001b[0m \u001b[0;36m1\u001b[0m\u001b[0;34m:\u001b[0m\u001b[0;34m\u001b[0m\u001b[0;34m\u001b[0m\u001b[0m\n\u001b[0;32m--> 397\u001b[0;31m         raise ValueError(\n\u001b[0m\u001b[1;32m    398\u001b[0m             \u001b[0;34m\"Found input variables with inconsistent numbers of samples: %r\"\u001b[0m\u001b[0;34m\u001b[0m\u001b[0;34m\u001b[0m\u001b[0m\n\u001b[1;32m    399\u001b[0m             \u001b[0;34m%\u001b[0m \u001b[0;34m[\u001b[0m\u001b[0mint\u001b[0m\u001b[0;34m(\u001b[0m\u001b[0ml\u001b[0m\u001b[0;34m)\u001b[0m \u001b[0;32mfor\u001b[0m \u001b[0ml\u001b[0m \u001b[0;32min\u001b[0m \u001b[0mlengths\u001b[0m\u001b[0;34m]\u001b[0m\u001b[0;34m\u001b[0m\u001b[0;34m\u001b[0m\u001b[0m\n",
            "\u001b[0;31mValueError\u001b[0m: Found input variables with inconsistent numbers of samples: [88508, 151611]"
          ]
        }
      ],
      "source": [
        "# Load the data\n",
        "data1 = pd.read_csv('/content/sample_data/input.csv',na_values='.'\n",
        "                    )\n",
        "data2= pd.read_csv('/content/sample_data/output.csv',na_values='.')\n",
        "\n",
        "# Extract the input features and target variables\n",
        "X = data1.values\n",
        "y = data2.values\n",
        "\n",
        "print (data1.size)\n",
        "print (data2.size)\n",
        "\n",
        "\n",
        "\n",
        "# Split the data into training and testing sets\n",
        "X_train, X_test, y_train, y_test = train_test_split( X, y, test_size=0.1, random_state=42)\n",
        "\n",
        "# Scale the data using MinMaxScaler\n",
        "scaler = MinMaxScaler()\n",
        "X_train_scaled = scaler.fit_transform(X_train)\n",
        "X_test_scaled = scaler.transform(X_test)\n",
        "\n"
      ]
    },
    {
      "cell_type": "code",
      "source": [],
      "metadata": {
        "id": "eOPocHHr2A-f"
      },
      "execution_count": null,
      "outputs": []
    },
    {
      "cell_type": "markdown",
      "metadata": {
        "id": "LVKfRdXT3L5V"
      },
      "source": [
        "Load and preprocess the data:"
      ]
    },
    {
      "cell_type": "code",
      "execution_count": 24,
      "metadata": {
        "id": "YAcqdsOHKCbs"
      },
      "outputs": [],
      "source": [
        "\n",
        "# Reshape the input data for LSTM (samples, timesteps, features)\n",
        "X_train_reshaped = X_train_scaled.reshape((X_train_scaled.shape[0], 1, X_train_scaled.shape[1]))\n",
        "X_test_reshaped = X_test_scaled.reshape((X_test_scaled.shape[0], 1, X_test_scaled.shape[1]))\n"
      ]
    },
    {
      "cell_type": "code",
      "execution_count": 25,
      "metadata": {
        "id": "JPuvgfA-MMX2"
      },
      "outputs": [],
      "source": [
        "model = Sequential()\n",
        "model.add(LSTM(64, input_shape=(X_train_reshaped.shape[1], X_train_reshaped.shape[2])))\n",
        "model.add(Dense(3))  # Output layer with 3 neurons for ClosePrice0, HighPrice0, and LowPrice0\n",
        "\n",
        "# Compile the model\n",
        "model.compile(optimizer='adam', loss='mse')"
      ]
    },
    {
      "cell_type": "code",
      "execution_count": 27,
      "metadata": {
        "colab": {
          "base_uri": "https://localhost:8080/"
        },
        "id": "62qEkXdgO_vE",
        "outputId": "ca5f1b73-ebff-4764-9641-a4abe7c6d572"
      },
      "outputs": [
        {
          "output_type": "stream",
          "name": "stdout",
          "text": [
            "Epoch 1/50\n",
            "25/25 [==============================] - 4s 37ms/step - loss: 0.3616 - val_loss: 0.0812\n",
            "Epoch 2/50\n",
            "25/25 [==============================] - 0s 9ms/step - loss: 0.0620 - val_loss: 0.0299\n",
            "Epoch 3/50\n",
            "25/25 [==============================] - 0s 6ms/step - loss: 0.0279 - val_loss: 0.0148\n",
            "Epoch 4/50\n",
            "25/25 [==============================] - 0s 6ms/step - loss: 0.0159 - val_loss: 0.0102\n",
            "Epoch 5/50\n",
            "25/25 [==============================] - 0s 6ms/step - loss: 0.0115 - val_loss: 0.0081\n",
            "Epoch 6/50\n",
            "25/25 [==============================] - 0s 5ms/step - loss: 0.0091 - val_loss: 0.0061\n",
            "Epoch 7/50\n",
            "25/25 [==============================] - 0s 5ms/step - loss: 0.0073 - val_loss: 0.0048\n",
            "Epoch 8/50\n",
            "25/25 [==============================] - 0s 5ms/step - loss: 0.0058 - val_loss: 0.0037\n",
            "Epoch 9/50\n",
            "25/25 [==============================] - 0s 8ms/step - loss: 0.0048 - val_loss: 0.0030\n",
            "Epoch 10/50\n",
            "25/25 [==============================] - 0s 5ms/step - loss: 0.0039 - val_loss: 0.0024\n",
            "Epoch 11/50\n",
            "25/25 [==============================] - 0s 6ms/step - loss: 0.0032 - val_loss: 0.0019\n",
            "Epoch 12/50\n",
            "25/25 [==============================] - 0s 5ms/step - loss: 0.0027 - val_loss: 0.0016\n",
            "Epoch 13/50\n",
            "25/25 [==============================] - 0s 7ms/step - loss: 0.0023 - val_loss: 0.0013\n",
            "Epoch 14/50\n",
            "25/25 [==============================] - 0s 6ms/step - loss: 0.0019 - val_loss: 0.0011\n",
            "Epoch 15/50\n",
            "25/25 [==============================] - 0s 14ms/step - loss: 0.0017 - val_loss: 9.6381e-04\n",
            "Epoch 16/50\n",
            "25/25 [==============================] - 0s 18ms/step - loss: 0.0015 - val_loss: 8.1620e-04\n",
            "Epoch 17/50\n",
            "25/25 [==============================] - 0s 6ms/step - loss: 0.0013 - val_loss: 7.5043e-04\n",
            "Epoch 18/50\n",
            "25/25 [==============================] - 0s 6ms/step - loss: 0.0011 - val_loss: 6.3467e-04\n",
            "Epoch 19/50\n",
            "25/25 [==============================] - 0s 8ms/step - loss: 0.0010 - val_loss: 5.9896e-04\n",
            "Epoch 20/50\n",
            "25/25 [==============================] - 0s 6ms/step - loss: 9.2653e-04 - val_loss: 5.1451e-04\n",
            "Epoch 21/50\n",
            "25/25 [==============================] - 0s 7ms/step - loss: 8.4093e-04 - val_loss: 4.8139e-04\n",
            "Epoch 22/50\n",
            "25/25 [==============================] - 0s 6ms/step - loss: 7.7324e-04 - val_loss: 4.5487e-04\n",
            "Epoch 23/50\n",
            "25/25 [==============================] - 0s 6ms/step - loss: 7.3109e-04 - val_loss: 4.1877e-04\n",
            "Epoch 24/50\n",
            "25/25 [==============================] - 0s 6ms/step - loss: 6.6992e-04 - val_loss: 3.8372e-04\n",
            "Epoch 25/50\n",
            "25/25 [==============================] - 0s 6ms/step - loss: 6.2774e-04 - val_loss: 3.6780e-04\n",
            "Epoch 26/50\n",
            "25/25 [==============================] - 0s 6ms/step - loss: 5.9408e-04 - val_loss: 3.5115e-04\n",
            "Epoch 27/50\n",
            "25/25 [==============================] - 0s 5ms/step - loss: 5.6125e-04 - val_loss: 3.2429e-04\n",
            "Epoch 28/50\n",
            "25/25 [==============================] - 0s 6ms/step - loss: 5.3447e-04 - val_loss: 3.2248e-04\n",
            "Epoch 29/50\n",
            "25/25 [==============================] - 0s 5ms/step - loss: 5.0511e-04 - val_loss: 3.2318e-04\n",
            "Epoch 30/50\n",
            "25/25 [==============================] - 0s 6ms/step - loss: 4.9931e-04 - val_loss: 2.8661e-04\n",
            "Epoch 31/50\n",
            "25/25 [==============================] - 0s 7ms/step - loss: 4.6253e-04 - val_loss: 2.7089e-04\n",
            "Epoch 32/50\n",
            "25/25 [==============================] - 0s 7ms/step - loss: 4.2253e-04 - val_loss: 2.5394e-04\n",
            "Epoch 33/50\n",
            "25/25 [==============================] - 0s 7ms/step - loss: 4.0702e-04 - val_loss: 2.4437e-04\n",
            "Epoch 34/50\n",
            "25/25 [==============================] - 0s 8ms/step - loss: 3.8688e-04 - val_loss: 2.2940e-04\n",
            "Epoch 35/50\n",
            "25/25 [==============================] - 0s 7ms/step - loss: 3.6855e-04 - val_loss: 2.3831e-04\n",
            "Epoch 36/50\n",
            "25/25 [==============================] - 0s 7ms/step - loss: 3.4780e-04 - val_loss: 2.0918e-04\n",
            "Epoch 37/50\n",
            "25/25 [==============================] - 0s 8ms/step - loss: 3.2951e-04 - val_loss: 2.0181e-04\n",
            "Epoch 38/50\n",
            "25/25 [==============================] - 0s 7ms/step - loss: 3.1529e-04 - val_loss: 1.9152e-04\n",
            "Epoch 39/50\n",
            "25/25 [==============================] - 0s 7ms/step - loss: 2.9761e-04 - val_loss: 1.8686e-04\n",
            "Epoch 40/50\n",
            "25/25 [==============================] - 0s 6ms/step - loss: 2.8613e-04 - val_loss: 1.7511e-04\n",
            "Epoch 41/50\n",
            "25/25 [==============================] - 0s 6ms/step - loss: 2.7325e-04 - val_loss: 1.6377e-04\n",
            "Epoch 42/50\n",
            "25/25 [==============================] - 0s 7ms/step - loss: 2.5581e-04 - val_loss: 1.5757e-04\n",
            "Epoch 43/50\n",
            "25/25 [==============================] - 0s 7ms/step - loss: 2.4227e-04 - val_loss: 1.4873e-04\n",
            "Epoch 44/50\n",
            "25/25 [==============================] - 0s 7ms/step - loss: 2.3112e-04 - val_loss: 1.4204e-04\n",
            "Epoch 45/50\n",
            "25/25 [==============================] - 0s 7ms/step - loss: 2.1933e-04 - val_loss: 1.3437e-04\n",
            "Epoch 46/50\n",
            "25/25 [==============================] - 0s 7ms/step - loss: 2.0730e-04 - val_loss: 1.3281e-04\n",
            "Epoch 47/50\n",
            "25/25 [==============================] - 0s 6ms/step - loss: 2.0261e-04 - val_loss: 1.2180e-04\n",
            "Epoch 48/50\n",
            "25/25 [==============================] - 0s 10ms/step - loss: 1.8854e-04 - val_loss: 1.2290e-04\n",
            "Epoch 49/50\n",
            "25/25 [==============================] - 0s 11ms/step - loss: 1.8025e-04 - val_loss: 1.1229e-04\n",
            "Epoch 50/50\n",
            "25/25 [==============================] - 0s 11ms/step - loss: 1.7277e-04 - val_loss: 1.0549e-04\n"
          ]
        },
        {
          "output_type": "execute_result",
          "data": {
            "text/plain": [
              "<keras.callbacks.History at 0x7f08ce75db10>"
            ]
          },
          "metadata": {},
          "execution_count": 27
        }
      ],
      "source": [
        "model.fit(X_train_reshaped, y_train, epochs=50, batch_size=32, validation_data=(X_test_reshaped, y_test))\n",
        "\n"
      ]
    },
    {
      "cell_type": "code",
      "source": [
        "# Prepare a single input for prediction\n",
        "single_input = X_test_reshaped[1]  # Adjust the index as per your requirement\n",
        "single_input = np.expand_dims(single_input, axis=0)\n",
        "\n",
        "# Predict on the single input\n",
        "prediction = model.predict(single_input)\n",
        "\n",
        "#Real Values\n",
        "\n",
        "\n",
        "\n",
        "# Print the predicted values for ClosePrice0, HighPrice0, and LowPrice0\n",
        "predicted_close_price = prediction[0, 0]\n",
        "predicted_high_price = prediction[0, 1]\n",
        "predicted_low_price = prediction[0, 2]\n",
        "print(\"Real ClosePrice0:\", y_test[0, 0])\n",
        "print(\"Predicted ClosePrice0:\", predicted_close_price)\n",
        "\n",
        "print(\"Real HighPrice0:\", y_test[1, 1])\n",
        "print(\"Predicted HighPrice0:\", predicted_high_price)\n",
        "\n",
        "print(\"Real LowPrice0:\", y_test[1, 2])\n",
        "print(\"Predicted LowPrice0:\", predicted_low_price)"
      ],
      "metadata": {
        "colab": {
          "base_uri": "https://localhost:8080/"
        },
        "id": "HPxfkhGu2C2X",
        "outputId": "337d6c3d-9fc6-41df-9c2e-9b7fae4f2d56"
      },
      "execution_count": 48,
      "outputs": [
        {
          "output_type": "stream",
          "name": "stdout",
          "text": [
            "1/1 [==============================] - 0s 26ms/step\n",
            "Real ClosePrice0: 1.24958\n",
            "Predicted ClosePrice0: 1.2550436\n",
            "Real HighPrice0: 1.24028\n",
            "Predicted HighPrice0: 1.2531334\n",
            "Real LowPrice0: 1.23988\n",
            "Predicted LowPrice0: 1.2550178\n"
          ]
        }
      ]
    }
  ],
  "metadata": {
    "colab": {
      "provenance": [],
      "authorship_tag": "ABX9TyPCnuhZafmaQ+fUaC0htPwn",
      "include_colab_link": true
    },
    "kernelspec": {
      "display_name": "Python 3",
      "name": "python3"
    },
    "language_info": {
      "name": "python"
    }
  },
  "nbformat": 4,
  "nbformat_minor": 0
}